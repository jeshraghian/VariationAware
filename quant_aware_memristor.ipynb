{
  "nbformat": 4,
  "nbformat_minor": 0,
  "metadata": {
    "colab": {
      "name": "Copy of quantAwareTrain.ipynb",
      "provenance": [],
      "collapsed_sections": [
        "9QXsrr6Mp5e_",
        "1EWDw3bip8Ie",
        "vFM8UV9CreIX",
        "xXkTAJ9ws1Y6",
        "OgkWg605tE1y",
        "OBt0WDzyujnk",
        "xC96eesMqYo-",
        "mszPTrYOluym",
        "VTHK-wAWV57B"
      ]
    },
    "kernelspec": {
      "name": "python3",
      "display_name": "Python 3"
    },
    "accelerator": "GPU"
  },
  "cells": [
    {
      "cell_type": "markdown",
      "metadata": {
        "id": "9QXsrr6Mp5e_"
      },
      "source": [
        "# MNIST Model"
      ]
    },
    {
      "cell_type": "code",
      "metadata": {
        "id": "YBGOnz5NpiTw"
      },
      "source": [
        "from __future__ import print_function\n",
        "import argparse\n",
        "import torch\n",
        "import torch.nn as nn\n",
        "import torch.nn.functional as F\n",
        "import torch.optim as optim\n",
        "from torchvision import datasets, transforms\n",
        "\n",
        "\n",
        "class Net(nn.Module):\n",
        "    def __init__(self, mnist=True):\n",
        "      \n",
        "        super(Net, self).__init__()\n",
        "        if mnist:\n",
        "          num_channels = 1\n",
        "        else:\n",
        "          num_channels = 3\n",
        "          \n",
        "        self.conv1 = nn.Conv2d(num_channels, 20, 5, 1)\n",
        "        self.conv2 = nn.Conv2d(20, 50, 5, 1)\n",
        "        if mnist:\n",
        "          self.fc1 = nn.Linear(4*4*50, 500)\n",
        "          self.flatten_shape = 4*4*50\n",
        "        else:\n",
        "          self.fc1 = nn.Linear(1250, 500)\n",
        "          self.flatten_shape = 1250\n",
        "\n",
        "        self.fc2 = nn.Linear(500, 10)\n",
        "        \n",
        "      \n",
        "    def forward(self, x, vis=False, axs=None):\n",
        "        X = 0\n",
        "        y = 0\n",
        "\n",
        "        if vis:\n",
        "          axs[X,y].set_xlabel('Entry into network, input distribution visualised below: ')\n",
        "          visualise(x, axs[X,y])\n",
        "\n",
        "          axs[X,y+1].set_xlabel(\"Visualising weights of conv 1 layer: \")\n",
        "          visualise(self.conv1.weight.data, axs[X,y+1])\n",
        "\n",
        "\n",
        "        x = F.relu(self.conv1(x))\n",
        "\n",
        "        if vis:\n",
        "          axs[X,y+2].set_xlabel('Output after conv1 visualised below: ')\n",
        "          visualise(x,axs[X,y+2])\n",
        "\n",
        "          axs[X,y+3].set_xlabel(\"Visualising weights of conv 2 layer: \")\n",
        "          visualise(self.conv2.weight.data, axs[X,y+3])\n",
        "\n",
        "        x = F.max_pool2d(x, 2, 2)\n",
        "        x = F.relu(self.conv2(x))\n",
        "\n",
        "        if vis:\n",
        "          axs[X,y+4].set_xlabel('Output after conv2 visualised below: ')\n",
        "          visualise(x,axs[X,y+4])\n",
        "\n",
        "          axs[X+1,y].set_xlabel(\"Visualising weights of fc 1 layer: \")\n",
        "          visualise(self.fc1.weight.data, axs[X+1,y])\n",
        "\n",
        "        x = F.max_pool2d(x, 2, 2)  \n",
        "        x = x.view(-1, self.flatten_shape)\n",
        "        x = F.relu(self.fc1(x))\n",
        "\n",
        "        if vis:\n",
        "          axs[X+1,y+1].set_xlabel('Output after fc1 visualised below: ')\n",
        "          visualise(x,axs[X+1,y+1])\n",
        "\n",
        "          axs[X+1,y+2].set_xlabel(\"Visualising weights of fc 2 layer: \")\n",
        "          visualise(self.fc2.weight.data, axs[X+1,y+2])\n",
        "\n",
        "        x = self.fc2(x)\n",
        "\n",
        "        if vis:\n",
        "          axs[X+1,y+3].set_xlabel('Output after fc2 visualised below: ')\n",
        "          visualise(x,axs[X+1,y+3])\n",
        "\n",
        "        return F.log_softmax(x, dim=1)\n",
        "    "
      ],
      "execution_count": 44,
      "outputs": []
    },
    {
      "cell_type": "markdown",
      "metadata": {
        "id": "1EWDw3bip8Ie"
      },
      "source": [
        "# Training "
      ]
    },
    {
      "cell_type": "code",
      "metadata": {
        "id": "ujzd_d1kp_sX",
        "outputId": "e78dc9f9-ef15-425a-e4ab-595cc3f0a1c9",
        "colab": {
          "base_uri": "https://localhost:8080/",
          "height": 1000
        }
      },
      "source": [
        "\n",
        "def train(args, model, device, train_loader, optimizer, epoch):\n",
        "    model.train()\n",
        "    for batch_idx, (data, target) in enumerate(train_loader):\n",
        "        data, target = data.to(device), target.to(device)\n",
        "        optimizer.zero_grad()\n",
        "        output = model(data)\n",
        "        loss = F.nll_loss(output, target)\n",
        "        loss.backward()\n",
        "        optimizer.step()\n",
        "        \n",
        "   \n",
        "        if batch_idx % args[\"log_interval\"] == 0:\n",
        "            print('Train Epoch: {} [{}/{} ({:.0f}%)]\\tLoss: {:.6f}'.format(\n",
        "                epoch, batch_idx * len(data), len(train_loader.dataset),\n",
        "                100. * batch_idx / len(train_loader), loss.item()))\n",
        "\n",
        "def test(args, model, device, test_loader):\n",
        "    model.eval()\n",
        "    test_loss = 0\n",
        "    correct = 0\n",
        "    with torch.no_grad():\n",
        "        for data, target in test_loader:\n",
        "            data, target = data.to(device), target.to(device)\n",
        "            output = model(data)\n",
        "            test_loss += F.nll_loss(output, target, reduction='sum').item() # sum up batch loss\n",
        "            pred = output.argmax(dim=1, keepdim=True) # get the index of the max log-probability\n",
        "            correct += pred.eq(target.view_as(pred)).sum().item()\n",
        "\n",
        "    test_loss /= len(test_loader.dataset)\n",
        "\n",
        "    print('\\nTest set: Average loss: {:.4f}, Accuracy: {}/{} ({:.0f}%)\\n'.format(\n",
        "        test_loss, correct, len(test_loader.dataset),\n",
        "        100. * correct / len(test_loader.dataset)))\n",
        "\n",
        "def main(mnist=True):\n",
        " \n",
        "    batch_size = 64\n",
        "    test_batch_size = 64\n",
        "    epochs = 20\n",
        "    lr = 0.005\n",
        "    momentum = 0.5\n",
        "    seed = 1\n",
        "    log_interval = 500\n",
        "    save_model = False\n",
        "    no_cuda = False\n",
        "    \n",
        "    use_cuda = not no_cuda and torch.cuda.is_available()\n",
        "\n",
        "    torch.manual_seed(seed)\n",
        "\n",
        "    device = torch.device(\"cuda\" if use_cuda else \"cpu\")\n",
        "\n",
        "    kwargs = {'num_workers': 1, 'pin_memory': True} if use_cuda else {}\n",
        "\n",
        "    if mnist:\n",
        "      train_loader = torch.utils.data.DataLoader(\n",
        "          datasets.MNIST('../data', train=True, download=True,\n",
        "                        transform=transforms.Compose([\n",
        "                            transforms.ToTensor(),\n",
        "                            transforms.Normalize((0.1307,), (0.3081,))\n",
        "                        ])),\n",
        "          batch_size=batch_size, shuffle=True, **kwargs)\n",
        "      \n",
        "      test_loader = torch.utils.data.DataLoader(\n",
        "          datasets.MNIST('../data', train=False, transform=transforms.Compose([\n",
        "                            transforms.ToTensor(),\n",
        "                            transforms.Normalize((0.1307,), (0.3081,))\n",
        "                        ])),\n",
        "          batch_size=test_batch_size, shuffle=True, **kwargs)\n",
        "    else:\n",
        "      transform = transforms.Compose(\n",
        "          [transforms.ToTensor(),\n",
        "          transforms.Normalize((0.5, 0.5, 0.5), (0.5, 0.5, 0.5))])\n",
        "\n",
        "      trainset = datasets.CIFAR10(root='./dataCifar', train=True,\n",
        "                                              download=True, transform=transform)\n",
        "      train_loader = torch.utils.data.DataLoader(trainset, batch_size=batch_size,\n",
        "                                                shuffle=True, num_workers=2)\n",
        "\n",
        "      testset = datasets.CIFAR10(root='./dataCifar', train=False,\n",
        "                                            download=True, transform=transform)\n",
        "      test_loader = torch.utils.data.DataLoader(testset, batch_size=test_batch_size,\n",
        "                                              shuffle=False, num_workers=2)\n",
        "          \n",
        "  \n",
        "    model = Net(mnist=mnist).to(device)\n",
        "    optimizer = optim.SGD(model.parameters(), lr=lr, momentum=momentum)\n",
        "    args = {}\n",
        "    args[\"log_interval\"] = log_interval\n",
        "    for epoch in range(1, epochs + 1):\n",
        "        train(args, model, device, train_loader, optimizer, epoch)\n",
        "        test(args, model, device, test_loader)\n",
        "\n",
        "    if (save_model):\n",
        "        torch.save(model.state_dict(),\"mnist_cnn.pt\")\n",
        "    \n",
        "    return model\n",
        "\n",
        "model = main()"
      ],
      "execution_count": 5,
      "outputs": [
        {
          "output_type": "stream",
          "text": [
            "Train Epoch: 1 [0/60000 (0%)]\tLoss: 2.300039\n",
            "Train Epoch: 1 [32000/60000 (53%)]\tLoss: 0.524071\n",
            "\n",
            "Test set: Average loss: 0.1619, Accuracy: 9518/10000 (95%)\n",
            "\n",
            "Train Epoch: 2 [0/60000 (0%)]\tLoss: 0.260253\n",
            "Train Epoch: 2 [32000/60000 (53%)]\tLoss: 0.066542\n",
            "\n",
            "Test set: Average loss: 0.0965, Accuracy: 9724/10000 (97%)\n",
            "\n",
            "Train Epoch: 3 [0/60000 (0%)]\tLoss: 0.102955\n",
            "Train Epoch: 3 [32000/60000 (53%)]\tLoss: 0.048692\n",
            "\n",
            "Test set: Average loss: 0.0773, Accuracy: 9751/10000 (98%)\n",
            "\n",
            "Train Epoch: 4 [0/60000 (0%)]\tLoss: 0.046427\n",
            "Train Epoch: 4 [32000/60000 (53%)]\tLoss: 0.025560\n",
            "\n",
            "Test set: Average loss: 0.0579, Accuracy: 9818/10000 (98%)\n",
            "\n",
            "Train Epoch: 5 [0/60000 (0%)]\tLoss: 0.038110\n",
            "Train Epoch: 5 [32000/60000 (53%)]\tLoss: 0.082447\n",
            "\n",
            "Test set: Average loss: 0.0514, Accuracy: 9831/10000 (98%)\n",
            "\n",
            "Train Epoch: 6 [0/60000 (0%)]\tLoss: 0.193046\n",
            "Train Epoch: 6 [32000/60000 (53%)]\tLoss: 0.019089\n",
            "\n",
            "Test set: Average loss: 0.0442, Accuracy: 9860/10000 (99%)\n",
            "\n",
            "Train Epoch: 7 [0/60000 (0%)]\tLoss: 0.039848\n",
            "Train Epoch: 7 [32000/60000 (53%)]\tLoss: 0.035442\n",
            "\n",
            "Test set: Average loss: 0.0458, Accuracy: 9849/10000 (98%)\n",
            "\n",
            "Train Epoch: 8 [0/60000 (0%)]\tLoss: 0.019208\n",
            "Train Epoch: 8 [32000/60000 (53%)]\tLoss: 0.034464\n",
            "\n",
            "Test set: Average loss: 0.0433, Accuracy: 9856/10000 (99%)\n",
            "\n",
            "Train Epoch: 9 [0/60000 (0%)]\tLoss: 0.098896\n",
            "Train Epoch: 9 [32000/60000 (53%)]\tLoss: 0.020196\n",
            "\n",
            "Test set: Average loss: 0.0358, Accuracy: 9890/10000 (99%)\n",
            "\n",
            "Train Epoch: 10 [0/60000 (0%)]\tLoss: 0.111646\n",
            "Train Epoch: 10 [32000/60000 (53%)]\tLoss: 0.023201\n",
            "\n",
            "Test set: Average loss: 0.0386, Accuracy: 9869/10000 (99%)\n",
            "\n",
            "Train Epoch: 11 [0/60000 (0%)]\tLoss: 0.030192\n",
            "Train Epoch: 11 [32000/60000 (53%)]\tLoss: 0.018143\n",
            "\n",
            "Test set: Average loss: 0.0345, Accuracy: 9895/10000 (99%)\n",
            "\n",
            "Train Epoch: 12 [0/60000 (0%)]\tLoss: 0.070817\n",
            "Train Epoch: 12 [32000/60000 (53%)]\tLoss: 0.053476\n",
            "\n",
            "Test set: Average loss: 0.0329, Accuracy: 9891/10000 (99%)\n",
            "\n",
            "Train Epoch: 13 [0/60000 (0%)]\tLoss: 0.059349\n",
            "Train Epoch: 13 [32000/60000 (53%)]\tLoss: 0.008441\n",
            "\n",
            "Test set: Average loss: 0.0325, Accuracy: 9890/10000 (99%)\n",
            "\n",
            "Train Epoch: 14 [0/60000 (0%)]\tLoss: 0.005856\n",
            "Train Epoch: 14 [32000/60000 (53%)]\tLoss: 0.008977\n",
            "\n",
            "Test set: Average loss: 0.0318, Accuracy: 9898/10000 (99%)\n",
            "\n",
            "Train Epoch: 15 [0/60000 (0%)]\tLoss: 0.023720\n",
            "Train Epoch: 15 [32000/60000 (53%)]\tLoss: 0.035499\n",
            "\n",
            "Test set: Average loss: 0.0298, Accuracy: 9913/10000 (99%)\n",
            "\n",
            "Train Epoch: 16 [0/60000 (0%)]\tLoss: 0.002394\n",
            "Train Epoch: 16 [32000/60000 (53%)]\tLoss: 0.003025\n",
            "\n",
            "Test set: Average loss: 0.0347, Accuracy: 9884/10000 (99%)\n",
            "\n",
            "Train Epoch: 17 [0/60000 (0%)]\tLoss: 0.008986\n",
            "Train Epoch: 17 [32000/60000 (53%)]\tLoss: 0.006870\n",
            "\n",
            "Test set: Average loss: 0.0271, Accuracy: 9912/10000 (99%)\n",
            "\n",
            "Train Epoch: 18 [0/60000 (0%)]\tLoss: 0.027292\n",
            "Train Epoch: 18 [32000/60000 (53%)]\tLoss: 0.011359\n",
            "\n",
            "Test set: Average loss: 0.0268, Accuracy: 9914/10000 (99%)\n",
            "\n",
            "Train Epoch: 19 [0/60000 (0%)]\tLoss: 0.035624\n",
            "Train Epoch: 19 [32000/60000 (53%)]\tLoss: 0.000197\n",
            "\n",
            "Test set: Average loss: 0.0313, Accuracy: 9901/10000 (99%)\n",
            "\n",
            "Train Epoch: 20 [0/60000 (0%)]\tLoss: 0.005385\n",
            "Train Epoch: 20 [32000/60000 (53%)]\tLoss: 0.004592\n",
            "\n",
            "Test set: Average loss: 0.0301, Accuracy: 9903/10000 (99%)\n",
            "\n"
          ],
          "name": "stdout"
        }
      ]
    },
    {
      "cell_type": "markdown",
      "metadata": {
        "id": "vDkkrT2prCU9"
      },
      "source": [
        "# Quantisation of Network"
      ]
    },
    {
      "cell_type": "markdown",
      "metadata": {
        "id": "vFM8UV9CreIX"
      },
      "source": [
        "## Quantisation Functions"
      ]
    },
    {
      "cell_type": "code",
      "metadata": {
        "id": "iCsoFvwLrgdu"
      },
      "source": [
        "from collections import namedtuple\n",
        "import torch\n",
        "import torch.nn as nn\n",
        "\n",
        "QTensor = namedtuple('QTensor', ['tensor', 'scale', 'zero_point'])\n",
        "\n",
        "def calcScaleZeroPoint(min_val, max_val,num_bits=8):\n",
        "  # Calc Scale and zero point of next \n",
        "  qmin = 0.\n",
        "  qmax = 2.**num_bits - 1.\n",
        "\n",
        "  scale = (max_val - min_val) / (qmax - qmin)\n",
        "\n",
        "  initial_zero_point = qmin - min_val / scale\n",
        "  \n",
        "  zero_point = 0\n",
        "  if initial_zero_point < qmin:\n",
        "      zero_point = qmin\n",
        "  elif initial_zero_point > qmax:\n",
        "      zero_point = qmax\n",
        "  else:\n",
        "      zero_point = initial_zero_point\n",
        "\n",
        "  zero_point = int(zero_point)\n",
        "\n",
        "  return scale, zero_point\n",
        "\n",
        "def calcScaleZeroPointSym(min_val, max_val,num_bits=8):\n",
        "  \n",
        "  # Calc Scale \n",
        "  max_val = max(abs(min_val), abs(max_val))\n",
        "  qmin = 0.\n",
        "  qmax = 2.**(num_bits-1) - 1.\n",
        "\n",
        "  scale = max_val / qmax\n",
        "\n",
        "  return scale, 0\n",
        "\n",
        "def quantize_tensor(x, num_bits=8, min_val=None, max_val=None):\n",
        "    \n",
        "    if not min_val and not max_val: \n",
        "      min_val, max_val = x.min(), x.max()\n",
        "\n",
        "    qmin = 0.\n",
        "    qmax = 2.**num_bits - 1.\n",
        "\n",
        "    scale, zero_point = calcScaleZeroPoint(min_val, max_val, num_bits)\n",
        "    q_x = zero_point + x / scale\n",
        "    q_x.clamp_(qmin, qmax).round_()\n",
        "    q_x = q_x.round().byte()\n",
        "    \n",
        "    return QTensor(tensor=q_x, scale=scale, zero_point=zero_point)\n",
        "\n",
        "def dequantize_tensor(q_x):\n",
        "    return q_x.scale * (q_x.tensor.float() - q_x.zero_point)\n",
        "\n",
        "def quantize_tensor_sym(x, num_bits=8, min_val=None, max_val=None):\n",
        "    \n",
        "    if not min_val and not max_val: \n",
        "      min_val, max_val = x.min(), x.max()\n",
        "\n",
        "    max_val = max(abs(min_val), abs(max_val))\n",
        "    qmin = 0.\n",
        "    qmax = 2.**(num_bits-1) - 1.\n",
        "\n",
        "    scale = max_val / qmax   \n",
        "\n",
        "    q_x = x/scale\n",
        "\n",
        "    q_x.clamp_(-qmax, qmax).round_()\n",
        "    q_x = q_x.round()\n",
        "    return QTensor(tensor=q_x, scale=scale, zero_point=0)\n",
        "\n",
        "def dequantize_tensor_sym(q_x):\n",
        "    return q_x.scale * (q_x.tensor.float())"
      ],
      "execution_count": 6,
      "outputs": []
    },
    {
      "cell_type": "markdown",
      "metadata": {
        "id": "xXkTAJ9ws1Y6"
      },
      "source": [
        "## Rework Forward pass of Linear and Conv Layers to support Quantisation"
      ]
    },
    {
      "cell_type": "code",
      "metadata": {
        "id": "M5xNLrchrI6u"
      },
      "source": [
        "def quantizeLayer(x, layer, stat, scale_x, zp_x, vis=False, axs=None, X=None, y=None, sym=False, num_bits=8):\n",
        "  # for both conv and linear layers\n",
        "\n",
        "  # cache old values\n",
        "  W = layer.weight.data\n",
        "  B = layer.bias.data\n",
        "\n",
        "  # WEIGHTS SIMULATED QUANTISED\n",
        "\n",
        "  # quantise weights, activations are already quantised\n",
        "  if sym:\n",
        "    w = quantize_tensor_sym(layer.weight.data,num_bits=num_bits) \n",
        "    b = quantize_tensor_sym(layer.bias.data,num_bits=num_bits)\n",
        "  else:\n",
        "    w = quantize_tensor(layer.weight.data, num_bits=num_bits) \n",
        "    b = quantize_tensor(layer.bias.data, num_bits=num_bits)\n",
        "\n",
        "  layer.weight.data = w.tensor.float()\n",
        "  layer.bias.data = b.tensor.float()\n",
        "\n",
        "  ## END WEIGHTS QUANTISED SIMULATION\n",
        "\n",
        "\n",
        "  if vis:\n",
        "    axs[X,y].set_xlabel(\"Visualising weights of layer: \")\n",
        "    visualise(layer.weight.data, axs[X,y])\n",
        "\n",
        "  # QUANTISED OP, USES SCALE AND ZERO POINT TO DO LAYER FORWARD PASS. (How does backprop change here ?)\n",
        "  # This is Quantisation Arithmetic\n",
        "  scale_w = w.scale\n",
        "  zp_w = w.zero_point\n",
        "  scale_b = b.scale\n",
        "  zp_b = b.zero_point\n",
        "  \n",
        "  if sym:\n",
        "    scale_next, zero_point_next = calcScaleZeroPointSym(min_val=stat['min'], max_val=stat['max'])\n",
        "  else:\n",
        "    scale_next, zero_point_next = calcScaleZeroPoint(min_val=stat['min'], max_val=stat['max'])\n",
        "\n",
        "  # Preparing input by saturating range to num_bits range.\n",
        "  if sym:\n",
        "    X = x.float()\n",
        "    layer.weight.data = ((scale_x * scale_w) / scale_next)*(layer.weight.data)\n",
        "    layer.bias.data = (scale_b/scale_next)*(layer.bias.data)\n",
        "  else:\n",
        "    X = x.float() - zp_x\n",
        "    layer.weight.data = ((scale_x * scale_w) / scale_next)*(layer.weight.data - zp_w)\n",
        "    layer.bias.data = (scale_b/scale_next)*(layer.bias.data + zp_b)\n",
        "\n",
        "  # All int computation\n",
        "  if sym:  \n",
        "    x = (layer(X)) \n",
        "  else:\n",
        "    x = (layer(X)) + zero_point_next \n",
        "  \n",
        "  # cast to int\n",
        "  x.round_()\n",
        "\n",
        "  # Perform relu too\n",
        "  x = F.leaky_relu(x)\n",
        "\n",
        "  # Reset weights for next forward pass\n",
        "  layer.weight.data = W\n",
        "  layer.bias.data = B\n",
        "  \n",
        "  return x, scale_next, zero_point_next\n"
      ],
      "execution_count": 7,
      "outputs": []
    },
    {
      "cell_type": "markdown",
      "metadata": {
        "id": "OgkWg605tE1y"
      },
      "source": [
        "## Get Stats for Quantising Activations of Network.\n",
        "\n",
        "This is done by running the network with around 1000 examples and getting the average min and max activation values before and after each layer."
      ]
    },
    {
      "cell_type": "code",
      "metadata": {
        "id": "GecOkNLhtVh9"
      },
      "source": [
        "# Get Min and max of x tensor, and stores it\n",
        "def updateStats(x, stats, key):\n",
        "  max_val, _ = torch.max(x, dim=1)\n",
        "  min_val, _ = torch.min(x, dim=1)\n",
        "\n",
        "  # add ema calculation\n",
        "\n",
        "  if key not in stats:\n",
        "    stats[key] = {\"max\": max_val.sum(), \"min\": min_val.sum(), \"total\": 1}\n",
        "  else:\n",
        "    stats[key]['max'] += max_val.sum().item()\n",
        "    stats[key]['min'] += min_val.sum().item()\n",
        "    stats[key]['total'] += 1\n",
        "  \n",
        "  weighting = 2.0 / (stats[key]['total']) + 1\n",
        "\n",
        "  if 'ema_min' in stats[key]:\n",
        "    stats[key]['ema_min'] = weighting*(min_val.mean().item()) + (1- weighting) * stats[key]['ema_min']\n",
        "  else:\n",
        "    stats[key]['ema_min'] = weighting*(min_val.mean().item())\n",
        "\n",
        "  if 'ema_max' in stats[key]:\n",
        "    stats[key]['ema_max'] = weighting*(max_val.mean().item()) + (1- weighting) * stats[key]['ema_max']\n",
        "  else: \n",
        "    stats[key]['ema_max'] = weighting*(max_val.mean().item())\n",
        "\n",
        "  stats[key]['min_val'] = stats[key]['min']/ stats[key]['total']\n",
        "  stats[key]['max_val'] = stats[key]['max']/ stats[key]['total']\n",
        "  \n",
        "  return stats\n",
        "\n",
        "# Reworked Forward Pass to access activation Stats through updateStats function\n",
        "def gatherActivationStats(model, x, stats):\n",
        "\n",
        "  stats = updateStats(x.clone().view(x.shape[0], -1), stats, 'conv1')\n",
        "  \n",
        "  x = F.relu(model.conv1(x))\n",
        "\n",
        "  x = F.max_pool2d(x, 2, 2)\n",
        "  \n",
        "  stats = updateStats(x.clone().view(x.shape[0], -1), stats, 'conv2')\n",
        "  \n",
        "  x = F.relu(model.conv2(x))\n",
        "\n",
        "  x = F.max_pool2d(x, 2, 2)\n",
        "\n",
        "  x = x.view(-1, 4*4*50)\n",
        "  \n",
        "  stats = updateStats(x, stats, 'fc1')\n",
        "\n",
        "  x = F.relu(model.fc1(x))\n",
        "  \n",
        "  stats = updateStats(x, stats, 'fc2')\n",
        "\n",
        "  x = model.fc2(x)\n",
        "\n",
        "  return stats\n",
        "\n",
        "# Entry function to get stats of all functions.\n",
        "def gatherStats(model, test_loader):\n",
        "    device = 'cuda'\n",
        "    \n",
        "    model.eval()\n",
        "    test_loss = 0\n",
        "    correct = 0\n",
        "    stats = {}\n",
        "    with torch.no_grad():\n",
        "        for data, target in test_loader:\n",
        "            data, target = data.to(device), target.to(device)\n",
        "            stats = gatherActivationStats(model, data, stats)\n",
        "    \n",
        "    final_stats = {}\n",
        "    for key, value in stats.items():\n",
        "      final_stats[key] = { \"max\" : value[\"max\"] / value[\"total\"], \"min\" : value[\"min\"] / value[\"total\"], \"ema_min\": value[\"ema_min\"], \"ema_max\": value[\"ema_max\"] }\n",
        "    return final_stats"
      ],
      "execution_count": 8,
      "outputs": []
    },
    {
      "cell_type": "markdown",
      "metadata": {
        "id": "OBt0WDzyujnk"
      },
      "source": [
        "## Forward Pass for Quantised Inference"
      ]
    },
    {
      "cell_type": "code",
      "metadata": {
        "id": "f6duGNF_uoZB"
      },
      "source": [
        "def quantForward(model, x, stats, vis=False, axs=None, sym=False, num_bits=8):\n",
        "  X = 0\n",
        "  y = 0\n",
        "  # Quantise before inputting into incoming layers\n",
        "  if sym:\n",
        "    x = quantize_tensor_sym(x, min_val=stats['conv1']['min'], max_val=stats['conv1']['max'], num_bits=num_bits)\n",
        "  else:\n",
        "    x = quantize_tensor(x, min_val=stats['conv1']['min'], max_val=stats['conv1']['max'], num_bits=num_bits)\n",
        "\n",
        "  if vis:\n",
        "    axs[X,y].set_xlabel('Entry into network, input distribution visualised below: ')\n",
        "    visualise(x.tensor, axs[X,y])\n",
        "  \n",
        "  x, scale_next, zero_point_next = quantizeLayer(x.tensor, model.conv1, stats['conv2'], x.scale, x.zero_point, vis, axs, X=X, y=y+1, sym=sym, num_bits=num_bits)\n",
        "\n",
        "  x = F.max_pool2d(x, 2, 2)\n",
        "  \n",
        "  if vis:\n",
        "    axs[X,y+2].set_xlabel('Output after conv1 visualised below: ')\n",
        "    visualise(x,axs[X,y+2])\n",
        "\n",
        "  x, scale_next, zero_point_next = quantizeLayer(x, model.conv2, stats['fc1'], scale_next, zero_point_next, vis, axs, X=X, y=y+3, sym=sym, num_bits=num_bits)\n",
        "\n",
        "  x = F.max_pool2d(x, 2, 2)\n",
        "\n",
        "  if vis:\n",
        "    axs[X,y+4].set_xlabel('Output after conv2 visualised below: ')\n",
        "    visualise(x,axs[X,y+4])\n",
        "\n",
        "  x = x.view(-1, 4*4*50)\n",
        "\n",
        "  x, scale_next, zero_point_next = quantizeLayer(x, model.fc1, stats['fc2'], scale_next, zero_point_next, vis, axs, X=X+1, y=0, sym=sym, num_bits=num_bits)\n",
        "\n",
        "  if vis:\n",
        "    axs[X+1,1].set_xlabel('Output after fc1 visualised below: ')\n",
        "    visualise(x,axs[X+1,1])\n",
        "  \n",
        "  # Back to dequant for final layer\n",
        "  if sym:\n",
        "    x = dequantize_tensor_sym(QTensor(tensor=x, scale=scale_next, zero_point=zero_point_next))\n",
        "  else:\n",
        "    x = dequantize_tensor(QTensor(tensor=x, scale=scale_next, zero_point=zero_point_next))\n",
        "\n",
        "  if vis:\n",
        "    axs[X+1,2].set_xlabel('Output after fc1 but dequantised visualised below: ')\n",
        "    visualise(x,axs[X+1,2])\n",
        "\n",
        "  x = model.fc2(x)\n",
        "\n",
        "  if vis:\n",
        "    axs[X+1,3].set_xlabel('Unquantised Weights of fc2 layer')\n",
        "    visualise(model.fc2.weight.data,axs[X+1,3])\n",
        "\n",
        "    axs[X+1,2].set_xlabel('Output after fc2 but dequantised visualised below: ')\n",
        "    visualise(x,axs[X+1,4])\n",
        "\n",
        "  return F.log_softmax(x, dim=1)"
      ],
      "execution_count": 9,
      "outputs": []
    },
    {
      "cell_type": "markdown",
      "metadata": {
        "id": "xC96eesMqYo-"
      },
      "source": [
        "# Testing Function for Quantisation"
      ]
    },
    {
      "cell_type": "code",
      "metadata": {
        "id": "X6jKRKSBt0he"
      },
      "source": [
        "def testQuant(model, test_loader, quant=False, stats=None, sym=False, num_bits=8):\n",
        "    device = 'cuda'\n",
        "    \n",
        "    model.eval()\n",
        "    test_loss = 0\n",
        "    correct = 0\n",
        "    with torch.no_grad():\n",
        "        for data, target in test_loader:\n",
        "            data, target = data.to(device), target.to(device)\n",
        "            if quant:\n",
        "              output = quantForward(model, data, stats, sym=sym, num_bits=num_bits)\n",
        "            else:\n",
        "              output = model(data)\n",
        "            test_loss += F.nll_loss(output, target, reduction='sum').item() # sum up batch loss\n",
        "            pred = output.argmax(dim=1, keepdim=True) # get the index of the max log-probability\n",
        "            correct += pred.eq(target.view_as(pred)).sum().item()\n",
        "\n",
        "    test_loss /= len(test_loader.dataset)\n",
        "\n",
        "    print('\\nTest set: Average loss: {:.4f}, Accuracy: {}/{} ({:.0f}%)\\n'.format(\n",
        "        test_loss, correct, len(test_loader.dataset),\n",
        "        100. * correct / len(test_loader.dataset)))"
      ],
      "execution_count": 10,
      "outputs": []
    },
    {
      "cell_type": "markdown",
      "metadata": {
        "id": "bs97rNEXt_my"
      },
      "source": [
        "# Get Accuracy of Non Quantised Model"
      ]
    },
    {
      "cell_type": "code",
      "metadata": {
        "id": "0YCtbfk9qbGI"
      },
      "source": [
        "import copy\n",
        "q_model = copy.deepcopy(model)"
      ],
      "execution_count": 11,
      "outputs": []
    },
    {
      "cell_type": "code",
      "metadata": {
        "id": "5j42Q8PKt3lj"
      },
      "source": [
        "kwargs = {'num_workers': 1, 'pin_memory': True}\n",
        "test_loader = torch.utils.data.DataLoader(\n",
        "    datasets.MNIST('../data', train=False, transform=transforms.Compose([\n",
        "                       transforms.ToTensor(),\n",
        "                       transforms.Normalize((0.1307,), (0.3081,))\n",
        "                   ])),\n",
        "    batch_size=64, shuffle=True, **kwargs)"
      ],
      "execution_count": 12,
      "outputs": []
    },
    {
      "cell_type": "code",
      "metadata": {
        "id": "QeYlzGG0t4Yp",
        "outputId": "4014ae06-551e-46fd-bce3-e5b585543d38",
        "colab": {
          "base_uri": "https://localhost:8080/",
          "height": 68
        }
      },
      "source": [
        "testQuant(q_model, test_loader, quant=False)"
      ],
      "execution_count": 13,
      "outputs": [
        {
          "output_type": "stream",
          "text": [
            "\n",
            "Test set: Average loss: 0.0301, Accuracy: 9903/10000 (99%)\n",
            "\n"
          ],
          "name": "stdout"
        }
      ]
    },
    {
      "cell_type": "markdown",
      "metadata": {
        "id": "1JaeISHeuHCb"
      },
      "source": [
        "# Gather Stats of Activations"
      ]
    },
    {
      "cell_type": "code",
      "metadata": {
        "id": "xhiL7OwwuLS6",
        "outputId": "8bf3f405-5f91-4c8a-ab88-c4c77e76b3f1",
        "colab": {
          "base_uri": "https://localhost:8080/",
          "height": 54
        }
      },
      "source": [
        "stats = gatherStats(q_model, test_loader)\n",
        "print(stats)"
      ],
      "execution_count": 14,
      "outputs": [
        {
          "output_type": "stream",
          "text": [
            "{'conv1': {'max': tensor(179.6298, device='cuda:0'), 'min': tensor(-27.0200, device='cuda:0'), 'ema_min': -0.4242129623889923, 'ema_max': 2.81828204412248}, 'conv2': {'max': tensor(628.9142, device='cuda:0'), 'min': tensor(0., device='cuda:0'), 'ema_min': 0.0, 'ema_max': 10.00134922050808}, 'fc1': {'max': tensor(1140.2422, device='cuda:0'), 'min': tensor(0., device='cuda:0'), 'ema_min': 0.0, 'ema_max': 17.742369543779294}, 'fc2': {'max': tensor(624.6760, device='cuda:0'), 'min': tensor(0., device='cuda:0'), 'ema_min': 0.0, 'ema_max': 9.2946570098729}}\n"
          ],
          "name": "stdout"
        }
      ]
    },
    {
      "cell_type": "markdown",
      "metadata": {
        "id": "eMeng9S4uSOX"
      },
      "source": [
        "# Test Quantised Inference Of Model"
      ]
    },
    {
      "cell_type": "code",
      "metadata": {
        "id": "INQggUUQuXyq",
        "outputId": "2025d96b-9a91-47ec-d3cb-ff038021851a",
        "colab": {
          "base_uri": "https://localhost:8080/",
          "height": 68
        }
      },
      "source": [
        "testQuant(q_model, test_loader, quant=True, stats=stats, sym=False, num_bits=6)"
      ],
      "execution_count": 15,
      "outputs": [
        {
          "output_type": "stream",
          "text": [
            "\n",
            "Test set: Average loss: 0.1154, Accuracy: 9651/10000 (97%)\n",
            "\n"
          ],
          "name": "stdout"
        }
      ]
    },
    {
      "cell_type": "code",
      "metadata": {
        "id": "1_-hb-WqIgXH",
        "outputId": "2221591f-3a2c-4559-88c9-cdc7d06fb773",
        "colab": {
          "base_uri": "https://localhost:8080/",
          "height": 68
        }
      },
      "source": [
        "testQuant(q_model, test_loader, quant=True, stats=stats, sym=True, num_bits=8)"
      ],
      "execution_count": 16,
      "outputs": [
        {
          "output_type": "stream",
          "text": [
            "\n",
            "Test set: Average loss: 0.1084, Accuracy: 9681/10000 (97%)\n",
            "\n"
          ],
          "name": "stdout"
        }
      ]
    },
    {
      "cell_type": "code",
      "metadata": {
        "id": "QTUB1sYikm4h",
        "outputId": "27a5c9d7-d45d-49ef-d00f-8cd9c3cfa522",
        "colab": {
          "base_uri": "https://localhost:8080/",
          "height": 68
        }
      },
      "source": [
        "testQuant(q_model, test_loader, quant=True, stats=stats, sym=True, num_bits=4)"
      ],
      "execution_count": 17,
      "outputs": [
        {
          "output_type": "stream",
          "text": [
            "\n",
            "Test set: Average loss: 2.3026, Accuracy: 1028/10000 (10%)\n",
            "\n"
          ],
          "name": "stdout"
        }
      ]
    },
    {
      "cell_type": "markdown",
      "metadata": {
        "id": "rApSucQLlb_6"
      },
      "source": [
        "See, when we go down to 4 bits, the accuracy craters !"
      ]
    },
    {
      "cell_type": "markdown",
      "metadata": {
        "id": "miUvOJ5YuEHC"
      },
      "source": [
        "# Visualise Weights and Activations"
      ]
    },
    {
      "cell_type": "code",
      "metadata": {
        "id": "QxxUxYA2BU3x"
      },
      "source": [
        "def visualise(x, axs):\n",
        "  x = x.view(-1).cpu().numpy()\n",
        "  axs.hist(x) "
      ],
      "execution_count": 18,
      "outputs": []
    },
    {
      "cell_type": "markdown",
      "metadata": {
        "id": "HgBC03xtTCe4"
      },
      "source": [
        "## Visualise Quantised Model"
      ]
    },
    {
      "cell_type": "code",
      "metadata": {
        "id": "q-_lnplBDwFq",
        "outputId": "7f0d8328-699e-41f6-bb6a-67d66e9e3863",
        "colab": {
          "base_uri": "https://localhost:8080/",
          "height": 606
        }
      },
      "source": [
        "import matplotlib.pyplot as plt\n",
        "# run through one example and plot weights and activations quantised in real time\n",
        "device = 'cuda'\n",
        "fig, axs = plt.subplots(2, 5, figsize=(20, 10))\n",
        "with torch.no_grad():\n",
        "    for data, target in test_loader:\n",
        "        data, target = data.to(device), target.to(device)\n",
        "        output = quantForward(q_model, data, stats, vis=True, axs=axs, sym=False)\n",
        "        break\n",
        "plt.show()"
      ],
      "execution_count": 19,
      "outputs": [
        {
          "output_type": "display_data",
          "data": {
            "image/png": "[encoded data removed]",
            "text/plain": [
              "<Figure size 1440x720 with 10 Axes>"
            ]
          },
          "metadata": {
            "tags": [],
            "needs_background": "light"
          }
        }
      ]
    },
    {
      "cell_type": "code",
      "metadata": {
        "id": "BAapb578IoY4",
        "outputId": "97f395fe-fbc5-49c0-d7ce-13867d6ecaf9",
        "colab": {
          "base_uri": "https://localhost:8080/",
          "height": 607
        }
      },
      "source": [
        "import matplotlib.pyplot as plt\n",
        "# run through one example and plot weights and activations quantised in real time\n",
        "device = 'cuda'\n",
        "fig, axs = plt.subplots(2, 5, figsize=(20, 10))\n",
        "with torch.no_grad():\n",
        "    for data, target in test_loader:\n",
        "        data, target = data.to(device), target.to(device)\n",
        "        output = quantForward(q_model, data, stats, vis=True, axs=axs, sym=True)\n",
        "        break\n",
        "plt.show()"
      ],
      "execution_count": 20,
      "outputs": [
        {
          "output_type": "display_data",
          "data": {
            "image/png": "[encoded data removed]",
            "text/plain": [
              "<Figure size 1440x720 with 10 Axes>"
            ]
          },
          "metadata": {
            "tags": [],
            "needs_background": "light"
          }
        }
      ]
    },
    {
      "cell_type": "markdown",
      "metadata": {
        "id": "mszPTrYOluym"
      },
      "source": [
        "## Non Quantised Network weights and activations"
      ]
    },
    {
      "cell_type": "code",
      "metadata": {
        "id": "iylGn6_aT5r9",
        "outputId": "9136d269-70d0-4322-8927-d07a6b100f28",
        "colab": {
          "base_uri": "https://localhost:8080/"
        }
      },
      "source": [
        "# run through one example and plot weights and activations quantised in real time\n",
        "device = 'cuda'\n",
        "fig, axs = plt.subplots(2, 5, figsize=(20, 10))\n",
        "with torch.no_grad():\n",
        "    for data, target in test_loader:\n",
        "        data, target = data.to(device), target.to(device)\n",
        "        output = model(data, vis=True, axs=axs)\n",
        "        break\n",
        "plt.show()"
      ],
      "execution_count": null,
      "outputs": [
        {
          "output_type": "display_data",
          "data": {
            "image/png": "[encoded data removed]",
            "text/plain": [
              "<Figure size 1440x720 with 10 Axes>"
            ]
          },
          "metadata": {
            "tags": []
          }
        }
      ]
    },
    {
      "cell_type": "code",
      "metadata": {
        "id": "SDvmMnLq85lp",
        "outputId": "ced2de19-f409-467a-e5a4-9c3c3bba23db",
        "colab": {
          "base_uri": "https://localhost:8080/",
          "height": 1000
        }
      },
      "source": [
        "quantisedConv1 = quantize_tensor(model.conv1.weight.data)\n",
        "fig, axs = plt.subplots(1, 1, figsize=(5, 5))\n",
        "axs.hist(quantisedConv1.tensor.cpu().view(-1).numpy())\n",
        "\n",
        "plt.show()\n",
        "\n",
        "quantisedConv1 = model.conv1.weight.data\n",
        "fig, axs = plt.subplots(1, 1, figsize=(5, 5))\n",
        "axs.hist(quantisedConv1.cpu().view(-1).numpy())\n",
        "\n",
        "plt.show()\n",
        "\n",
        "quantisedConv1 = quantize_tensor_sym(model.conv1.weight.data)\n",
        "fig, axs = plt.subplots(1, 1, figsize=(5, 5))\n",
        "axs.hist(quantisedConv1.tensor.cpu().view(-1).numpy())\n",
        "\n",
        "plt.show()\n",
        "\n",
        "unquantisedConv1 = dequantize_tensor_sym(quantisedConv1)\n",
        "fig, axs = plt.subplots(1, 1, figsize=(5, 5))\n",
        "axs.hist(unquantisedConv1.cpu().view(-1).numpy())\n",
        "\n",
        "plt.show()"
      ],
      "execution_count": 21,
      "outputs": [
        {
          "output_type": "display_data",
          "data": {
            "image/png": "[encoded data removed]",
            "text/plain": [
              "<Figure size 360x360 with 1 Axes>"
            ]
          },
          "metadata": {
            "tags": [],
            "needs_background": "light"
          }
        },
        {
          "output_type": "display_data",
          "data": {
            "image/png": "[encoded data removed]",
            "text/plain": [
              "<Figure size 360x360 with 1 Axes>"
            ]
          },
          "metadata": {
            "tags": [],
            "needs_background": "light"
          }
        },
        {
          "output_type": "display_data",
          "data": {
            "image/png": "[encoded data removed]",
            "text/plain": [
              "<Figure size 360x360 with 1 Axes>"
            ]
          },
          "metadata": {
            "tags": [],
            "needs_background": "light"
          }
        },
        {
          "output_type": "display_data",
          "data": {
            "image/png": "[encoded data removed]",
            "text/plain": [
              "<Figure size 360x360 with 1 Axes>"
            ]
          },
          "metadata": {
            "tags": [],
            "needs_background": "light"
          }
        }
      ]
    },
    {
      "cell_type": "markdown",
      "metadata": {
        "id": "voLb1LPkvkz_"
      },
      "source": [
        "## TA DA !!\n",
        "\n",
        "We have quantised our net to mostly 8 bit arithmetic with almost zero accuracy loss ! Pretty good day's work, I'll say :D"
      ]
    },
    {
      "cell_type": "markdown",
      "metadata": {
        "id": "ZcxOV-GEy6rD"
      },
      "source": [
        "# Quantisation Aware Training"
      ]
    },
    {
      "cell_type": "code",
      "metadata": {
        "id": "SDKoL7ncKeb5"
      },
      "source": [
        "import torch\n",
        "\n",
        "class FakeQuantOp(torch.autograd.Function):\n",
        "    @staticmethod\n",
        "    def forward(ctx, x, num_bits=8, min_val=None, max_val=None):\n",
        "        x = quantize_tensor(x,num_bits=num_bits, min_val=min_val, max_val=max_val)\n",
        "        x = dequantize_tensor(x)\n",
        "        return x\n",
        "\n",
        "    @staticmethod\n",
        "    def backward(ctx, grad_output):\n",
        "        # straight through estimator\n",
        "        return grad_output, None, None, None"
      ],
      "execution_count": 22,
      "outputs": []
    },
    {
      "cell_type": "code",
      "metadata": {
        "id": "vSLtlCSOZ7Ve",
        "outputId": "87e08518-297d-4abc-a3a5-44d7b4276c2f",
        "colab": {
          "base_uri": "https://localhost:8080/",
          "height": 34
        }
      },
      "source": [
        "x = torch.tensor([1,2,3,4]).float()\n",
        "print(FakeQuantOp.apply(x))"
      ],
      "execution_count": 23,
      "outputs": [
        {
          "output_type": "stream",
          "text": [
            "tensor([1., 2., 3., 3.])\n"
          ],
          "name": "stdout"
        }
      ]
    },
    {
      "cell_type": "markdown",
      "metadata": {
        "id": "VTHK-wAWV57B"
      },
      "source": [
        "## Quantization Aware Training Forward Pass"
      ]
    },
    {
      "cell_type": "code",
      "metadata": {
        "id": "lShb-FGKRp1h"
      },
      "source": [
        "def quantAwareTrainingForward(model, x, stats, vis=False, axs=None, sym=False, num_bits=8, act_quant=False):\n",
        "  \n",
        "  conv1weight = model.conv1.weight.data\n",
        "  model.conv1.weight.data = FakeQuantOp.apply(model.conv1.weight.data, num_bits)\n",
        "  x = F.relu(model.conv1(x))\n",
        "\n",
        "  with torch.no_grad():\n",
        "    stats = updateStats(x.clone().view(x.shape[0], -1), stats, 'conv1')\n",
        "\n",
        "  if act_quant:\n",
        "    x = FakeQuantOp.apply(x, num_bits, stats['conv1']['ema_min'], stats['conv1']['ema_max'])\n",
        "\n",
        "  x = F.max_pool2d(x, 2, 2)\n",
        "\n",
        "  conv2weight = model.conv2.weight.data\n",
        "  model.conv2.weight.data = FakeQuantOp.apply(model.conv2.weight.data, num_bits)\n",
        "  x = F.relu(model.conv2(x))\n",
        "\n",
        "  with torch.no_grad():\n",
        "    stats = updateStats(x.clone().view(x.shape[0], -1), stats, 'conv2')\n",
        "    \n",
        "  if act_quant:\n",
        "    x = FakeQuantOp.apply(x, num_bits, stats['conv2']['ema_min'], stats['conv2']['ema_max'])\n",
        "\n",
        "\n",
        "  x = F.max_pool2d(x, 2, 2)\n",
        "\n",
        "  x = x.view(-1, 4*4*50)\n",
        "\n",
        "  fc1weight = model.fc1.weight.data\n",
        "  model.fc1.weight.data = FakeQuantOp.apply(model.fc1.weight.data, num_bits)\n",
        "  x = F.relu(model.fc1(x))\n",
        "\n",
        "  with torch.no_grad():\n",
        "    stats = updateStats(x.clone().view(x.shape[0], -1), stats, 'fc1')\n",
        "\n",
        "  if act_quant:\n",
        "    x = FakeQuantOp.apply(x, num_bits, stats['fc1']['ema_min'], stats['fc1']['ema_max'])\n",
        "\n",
        "  x = model.fc2(x)\n",
        "  \n",
        "  with torch.no_grad():\n",
        "    stats = updateStats(x.clone().view(x.shape[0], -1), stats, 'fc2')\n",
        "\n",
        "  return F.log_softmax(x, dim=1), conv1weight, conv2weight, fc1weight, stats"
      ],
      "execution_count": 24,
      "outputs": []
    },
    {
      "cell_type": "markdown",
      "metadata": {
        "id": "GCyUw4izk41q"
      },
      "source": [
        "# Train using Quantization Aware Training"
      ]
    },
    {
      "cell_type": "code",
      "metadata": {
        "id": "LuKYWJfSR65B",
        "outputId": "218c431d-7a6a-4032-ae6d-ada41ec93419",
        "colab": {
          "base_uri": "https://localhost:8080/",
          "height": 1000
        }
      },
      "source": [
        "def trainQuantAware(args, model, device, train_loader, optimizer, epoch, stats, act_quant=False, num_bits=4):\n",
        "    model.train()\n",
        "    for batch_idx, (data, target) in enumerate(train_loader):\n",
        "        data, target = data.to(device), target.to(device)\n",
        "        optimizer.zero_grad()\n",
        "        output, conv1weight, conv2weight, fc1weight, stats = quantAwareTrainingForward(model, data, stats, num_bits=num_bits, act_quant=act_quant)\n",
        "\n",
        "        model.conv1.weight.data = conv1weight\n",
        "        model.conv2.weight.data = conv2weight\n",
        "        model.fc1.weight.data = fc1weight\n",
        "\n",
        "        loss = F.nll_loss(output, target)\n",
        "        loss.backward()\n",
        "        optimizer.step()\n",
        "\n",
        "        if batch_idx % args[\"log_interval\"] == 0:\n",
        "            print('Train Epoch: {} [{}/{} ({:.0f}%)]\\tLoss: {:.6f}'.format(\n",
        "                epoch, batch_idx * len(data), len(train_loader.dataset),\n",
        "                100. * batch_idx / len(train_loader), loss.item()))\n",
        "    return stats\n",
        "\n",
        "def testQuantAware(args, model, device, test_loader, stats, act_quant, num_bits=4):\n",
        "    model.eval()\n",
        "    test_loss = 0\n",
        "    correct = 0\n",
        "    with torch.no_grad():\n",
        "        for data, target in test_loader:\n",
        "            data, target = data.to(device), target.to(device)\n",
        "            output, conv1weight, conv2weight, fc1weight, _ = quantAwareTrainingForward(model, data, stats, num_bits=num_bits, act_quant=act_quant)\n",
        "            \n",
        "            model.conv1.weight.data = conv1weight\n",
        "            model.conv2.weight.data = conv2weight\n",
        "            model.fc1.weight.data = fc1weight\n",
        "\n",
        "            test_loss += F.nll_loss(output, target, reduction='sum').item() # sum up batch loss\n",
        "            pred = output.argmax(dim=1, keepdim=True) # get the index of the max log-probability\n",
        "            correct += pred.eq(target.view_as(pred)).sum().item()\n",
        "\n",
        "    test_loss /= len(test_loader.dataset)\n",
        "\n",
        "    print('\\nTest set: Average loss: {:.4f}, Accuracy: {}/{} ({:.0f}%)\\n'.format(\n",
        "        test_loss, correct, len(test_loader.dataset),\n",
        "        100. * correct / len(test_loader.dataset)))\n",
        "\n",
        "def mainQuantAware(mnist=True):\n",
        " \n",
        "    batch_size = 64\n",
        "    test_batch_size = 64\n",
        "    epochs = 20\n",
        "    lr = 0.01\n",
        "    momentum = 0.5\n",
        "    seed = 1\n",
        "    log_interval = 500\n",
        "    save_model = False\n",
        "    no_cuda = False\n",
        "    \n",
        "    use_cuda = not no_cuda and torch.cuda.is_available()\n",
        "\n",
        "    torch.manual_seed(seed)\n",
        "\n",
        "    device = torch.device(\"cuda\" if use_cuda else \"cpu\")\n",
        "\n",
        "    kwargs = {'num_workers': 1, 'pin_memory': True} if use_cuda else {}\n",
        "\n",
        "    if mnist:\n",
        "      train_loader = torch.utils.data.DataLoader(\n",
        "          datasets.MNIST('../data', train=True, download=True,\n",
        "                        transform=transforms.Compose([\n",
        "                            transforms.ToTensor(),\n",
        "                            transforms.Normalize((0.1307,), (0.3081,))\n",
        "                        ])),\n",
        "          batch_size=batch_size, shuffle=True, **kwargs)\n",
        "      \n",
        "      test_loader = torch.utils.data.DataLoader(\n",
        "          datasets.MNIST('../data', train=False, transform=transforms.Compose([\n",
        "                            transforms.ToTensor(),\n",
        "                            transforms.Normalize((0.1307,), (0.3081,))\n",
        "                        ])),\n",
        "          batch_size=test_batch_size, shuffle=True, **kwargs)\n",
        "    else:\n",
        "      transform = transforms.Compose(\n",
        "          [transforms.ToTensor(),\n",
        "          transforms.Normalize((0.5, 0.5, 0.5), (0.5, 0.5, 0.5))])\n",
        "\n",
        "      trainset = datasets.CIFAR10(root='./dataCifar', train=True,\n",
        "                                              download=True, transform=transform)\n",
        "      train_loader = torch.utils.data.DataLoader(trainset, batch_size=batch_size,\n",
        "                                                shuffle=True, num_workers=2)\n",
        "\n",
        "      testset = datasets.CIFAR10(root='./dataCifar', train=False,\n",
        "                                            download=True, transform=transform)\n",
        "      test_loader = torch.utils.data.DataLoader(testset, batch_size=test_batch_size,\n",
        "                                              shuffle=False, num_workers=2)\n",
        "          \n",
        "  \n",
        "    model = Net(mnist=mnist).to(device)\n",
        "    optimizer = optim.SGD(model.parameters(), lr=lr, momentum=momentum)\n",
        "    args = {}\n",
        "    args[\"log_interval\"] = log_interval\n",
        "    epochs = 20\n",
        "    num_bits=8\n",
        "    stats = {}\n",
        "    for epoch in range(1, epochs + 1):\n",
        "        if epoch > 5:\n",
        "          act_quant = True \n",
        "        else:\n",
        "          act_quant = False\n",
        "\n",
        "        stats = trainQuantAware(args, model, device, train_loader, optimizer, epoch, stats, act_quant, num_bits=num_bits)\n",
        "        testQuantAware(args, model, device, test_loader, stats, act_quant, num_bits=num_bits)\n",
        "\n",
        "    if (save_model):\n",
        "        torch.save(model.state_dict(),\"mnist_cnn.pt\")\n",
        "\n",
        "    return model, stats\n",
        "\n",
        "model, old_stats = mainQuantAware()\n"
      ],
      "execution_count": 25,
      "outputs": [
        {
          "output_type": "stream",
          "text": [
            "Train Epoch: 1 [0/60000 (0%)]\tLoss: 2.300226\n",
            "Train Epoch: 1 [32000/60000 (53%)]\tLoss: 0.342062\n",
            "\n",
            "Test set: Average loss: 0.1018, Accuracy: 9663/10000 (97%)\n",
            "\n",
            "Train Epoch: 2 [0/60000 (0%)]\tLoss: 0.145594\n",
            "Train Epoch: 2 [32000/60000 (53%)]\tLoss: 0.033506\n",
            "\n",
            "Test set: Average loss: 0.0611, Accuracy: 9826/10000 (98%)\n",
            "\n",
            "Train Epoch: 3 [0/60000 (0%)]\tLoss: 0.052354\n",
            "Train Epoch: 3 [32000/60000 (53%)]\tLoss: 0.028835\n",
            "\n",
            "Test set: Average loss: 0.0569, Accuracy: 9807/10000 (98%)\n",
            "\n",
            "Train Epoch: 4 [0/60000 (0%)]\tLoss: 0.018603\n",
            "Train Epoch: 4 [32000/60000 (53%)]\tLoss: 0.015321\n",
            "\n",
            "Test set: Average loss: 0.0414, Accuracy: 9864/10000 (99%)\n",
            "\n",
            "Train Epoch: 5 [0/60000 (0%)]\tLoss: 0.010301\n",
            "Train Epoch: 5 [32000/60000 (53%)]\tLoss: 0.041269\n",
            "\n",
            "Test set: Average loss: 0.0382, Accuracy: 9876/10000 (99%)\n",
            "\n",
            "Train Epoch: 6 [0/60000 (0%)]\tLoss: 0.122685\n",
            "Train Epoch: 6 [32000/60000 (53%)]\tLoss: 0.012870\n",
            "\n",
            "Test set: Average loss: 0.0335, Accuracy: 9892/10000 (99%)\n",
            "\n",
            "Train Epoch: 7 [0/60000 (0%)]\tLoss: 0.029352\n",
            "Train Epoch: 7 [32000/60000 (53%)]\tLoss: 0.014131\n",
            "\n",
            "Test set: Average loss: 0.0351, Accuracy: 9877/10000 (99%)\n",
            "\n",
            "Train Epoch: 8 [0/60000 (0%)]\tLoss: 0.004950\n",
            "Train Epoch: 8 [32000/60000 (53%)]\tLoss: 0.012100\n",
            "\n",
            "Test set: Average loss: 0.0394, Accuracy: 9875/10000 (99%)\n",
            "\n",
            "Train Epoch: 9 [0/60000 (0%)]\tLoss: 0.087393\n",
            "Train Epoch: 9 [32000/60000 (53%)]\tLoss: 0.008164\n",
            "\n",
            "Test set: Average loss: 0.0291, Accuracy: 9915/10000 (99%)\n",
            "\n",
            "Train Epoch: 10 [0/60000 (0%)]\tLoss: 0.119088\n",
            "Train Epoch: 10 [32000/60000 (53%)]\tLoss: 0.013842\n",
            "\n",
            "Test set: Average loss: 0.0320, Accuracy: 9893/10000 (99%)\n",
            "\n",
            "Train Epoch: 11 [0/60000 (0%)]\tLoss: 0.006976\n",
            "Train Epoch: 11 [32000/60000 (53%)]\tLoss: 0.002648\n",
            "\n",
            "Test set: Average loss: 0.0312, Accuracy: 9894/10000 (99%)\n",
            "\n",
            "Train Epoch: 12 [0/60000 (0%)]\tLoss: 0.040709\n",
            "Train Epoch: 12 [32000/60000 (53%)]\tLoss: 0.015158\n",
            "\n",
            "Test set: Average loss: 0.0266, Accuracy: 9916/10000 (99%)\n",
            "\n",
            "Train Epoch: 13 [0/60000 (0%)]\tLoss: 0.025111\n",
            "Train Epoch: 13 [32000/60000 (53%)]\tLoss: 0.006588\n",
            "\n",
            "Test set: Average loss: 0.0276, Accuracy: 9918/10000 (99%)\n",
            "\n",
            "Train Epoch: 14 [0/60000 (0%)]\tLoss: 0.006564\n",
            "Train Epoch: 14 [32000/60000 (53%)]\tLoss: 0.005491\n",
            "\n",
            "Test set: Average loss: 0.0270, Accuracy: 9914/10000 (99%)\n",
            "\n",
            "Train Epoch: 15 [0/60000 (0%)]\tLoss: 0.010766\n",
            "Train Epoch: 15 [32000/60000 (53%)]\tLoss: 0.020047\n",
            "\n",
            "Test set: Average loss: 0.0254, Accuracy: 9917/10000 (99%)\n",
            "\n",
            "Train Epoch: 16 [0/60000 (0%)]\tLoss: 0.001828\n",
            "Train Epoch: 16 [32000/60000 (53%)]\tLoss: 0.000600\n",
            "\n",
            "Test set: Average loss: 0.0258, Accuracy: 9912/10000 (99%)\n",
            "\n",
            "Train Epoch: 17 [0/60000 (0%)]\tLoss: 0.001705\n",
            "Train Epoch: 17 [32000/60000 (53%)]\tLoss: 0.002825\n",
            "\n",
            "Test set: Average loss: 0.0243, Accuracy: 9926/10000 (99%)\n",
            "\n",
            "Train Epoch: 18 [0/60000 (0%)]\tLoss: 0.012662\n",
            "Train Epoch: 18 [32000/60000 (53%)]\tLoss: 0.002740\n",
            "\n",
            "Test set: Average loss: 0.0274, Accuracy: 9914/10000 (99%)\n",
            "\n",
            "Train Epoch: 19 [0/60000 (0%)]\tLoss: 0.023852\n",
            "Train Epoch: 19 [32000/60000 (53%)]\tLoss: 0.000042\n",
            "\n",
            "Test set: Average loss: 0.0277, Accuracy: 9909/10000 (99%)\n",
            "\n",
            "Train Epoch: 20 [0/60000 (0%)]\tLoss: 0.001231\n",
            "Train Epoch: 20 [32000/60000 (53%)]\tLoss: 0.004867\n",
            "\n",
            "Test set: Average loss: 0.0285, Accuracy: 9906/10000 (99%)\n",
            "\n"
          ],
          "name": "stdout"
        }
      ]
    },
    {
      "cell_type": "markdown",
      "metadata": {
        "id": "DHGUF12BlAVW"
      },
      "source": [
        "# Test Quantization Aware Training"
      ]
    },
    {
      "cell_type": "code",
      "metadata": {
        "id": "lOisGIdHthIt"
      },
      "source": [
        "def testQuantAware(model, test_loader, stats=None, sym=False, num_bits=8):\n",
        "    model.eval()\n",
        "    test_loss = 0\n",
        "    correct = 0\n",
        "    with torch.no_grad():\n",
        "        for data, target in test_loader:\n",
        "            data, target = data.to(device), target.to(device)\n",
        "            output, conv1weight, conv2weight, fc1weight, _ = quantAwareTrainingForward(model, data, stats, num_bits=num_bits, act_quant=True, sym=False)\n",
        "            \n",
        "            model.conv1.weight.data = conv1weight\n",
        "            model.conv2.weight.data = conv2weight\n",
        "            model.fc1.weight.data = fc1weight\n",
        "\n",
        "            test_loss += F.nll_loss(output, target, reduction='sum').item() # sum up batch loss\n",
        "            pred = output.argmax(dim=1, keepdim=True) # get the index of the max log-probability\n",
        "            correct += pred.eq(target.view_as(pred)).sum().item()\n",
        "\n",
        "    test_loss /= len(test_loader.dataset)\n",
        "\n",
        "    print('\\nTest set: Average loss: {:.4f}, Accuracy: {}/{} ({:.0f}%)\\n'.format(\n",
        "        test_loss, correct, len(test_loader.dataset),\n",
        "        100. * correct / len(test_loader.dataset)))"
      ],
      "execution_count": 26,
      "outputs": []
    },
    {
      "cell_type": "markdown",
      "metadata": {
        "id": "jeBhP7pZlPln"
      },
      "source": [
        "## Load Dataset"
      ]
    },
    {
      "cell_type": "code",
      "metadata": {
        "id": "rgWoRSkNzJVM"
      },
      "source": [
        "kwargs = {'num_workers': 1, 'pin_memory': True}\n",
        "test_loader = torch.utils.data.DataLoader(\n",
        "    datasets.MNIST('../data', train=False, transform=transforms.Compose([\n",
        "                       transforms.ToTensor(),\n",
        "                       transforms.Normalize((0.1307,), (0.3081,))\n",
        "                   ])),\n",
        "    batch_size=64, shuffle=True, **kwargs)"
      ],
      "execution_count": 27,
      "outputs": []
    },
    {
      "cell_type": "markdown",
      "metadata": {
        "id": "ZJcX_UQYlSUo"
      },
      "source": [
        "## Test Quant Aware "
      ]
    },
    {
      "cell_type": "code",
      "metadata": {
        "id": "DxmD9WV_l2q2",
        "outputId": "86b55930-10c3-466d-eb7c-64b1ee1267b3",
        "colab": {
          "base_uri": "https://localhost:8080/",
          "height": 54
        }
      },
      "source": [
        "print(old_stats)"
      ],
      "execution_count": 28,
      "outputs": [
        {
          "output_type": "stream",
          "text": [
            "{'conv1': {'max': tensor(12342376., device='cuda:0'), 'min': tensor(0., device='cuda:0'), 'total': 21900, 'ema_min': 0.0, 'ema_max': 10.032305866558502, 'min_val': tensor(0., device='cuda:0'), 'max_val': tensor(563.5789, device='cuda:0')}, 'conv2': {'max': tensor(21562654., device='cuda:0'), 'min': tensor(0., device='cuda:0'), 'total': 21900, 'ema_min': 0.0, 'ema_max': 18.264613489636574, 'min_val': tensor(0., device='cuda:0'), 'max_val': tensor(984.5961, device='cuda:0')}, 'fc1': {'max': tensor(11720262., device='cuda:0'), 'min': tensor(0., device='cuda:0'), 'total': 21900, 'ema_min': 0.0, 'ema_max': 10.869163509818787, 'min_val': tensor(0., device='cuda:0'), 'max_val': tensor(535.1718, device='cuda:0')}, 'fc2': {'max': tensor(22082518., device='cuda:0'), 'min': tensor(-13815383., device='cuda:0'), 'total': 21900, 'ema_min': -11.220185884749975, 'ema_max': 20.37988847299026, 'min_val': tensor(-630.8394, device='cuda:0'), 'max_val': tensor(1008.3342, device='cuda:0')}}\n"
          ],
          "name": "stdout"
        }
      ]
    },
    {
      "cell_type": "code",
      "metadata": {
        "id": "Sj756_3-lKYy"
      },
      "source": [
        "import copy\n",
        "q_model = copy.deepcopy(model)"
      ],
      "execution_count": 29,
      "outputs": []
    },
    {
      "cell_type": "code",
      "metadata": {
        "id": "1eQC5VimyZF-",
        "outputId": "dfb37ffb-7e25-4f6c-a92a-1231f8a92a5d",
        "colab": {
          "base_uri": "https://localhost:8080/",
          "height": 68
        }
      },
      "source": [
        "testQuantAware(q_model, test_loader, stats=old_stats, sym=False, num_bits=8)"
      ],
      "execution_count": 30,
      "outputs": [
        {
          "output_type": "stream",
          "text": [
            "\n",
            "Test set: Average loss: 0.0285, Accuracy: 9906/10000 (99%)\n",
            "\n"
          ],
          "name": "stdout"
        }
      ]
    },
    {
      "cell_type": "markdown",
      "metadata": {
        "id": "DbJj7GJKmXts"
      },
      "source": [
        "## Voila\n",
        "\n",
        "We're back to test accuracy."
      ]
    },
    {
      "cell_type": "markdown",
      "metadata": {
        "id": "qLMkNQnRpJQ_"
      },
      "source": [
        "# Vis 2 bit Model Weights"
      ]
    },
    {
      "cell_type": "code",
      "metadata": {
        "id": "ZUdw2hD7zdiM",
        "outputId": "44c2b4d1-d668-4bac-b957-e6f62903ff82",
        "colab": {
          "base_uri": "https://localhost:8080/",
          "height": 606
        }
      },
      "source": [
        "import matplotlib.pyplot as plt\n",
        "# run through one example and plot weights and activations quantised in real time\n",
        "device = 'cuda'\n",
        "fig, axs = plt.subplots(2, 5, figsize=(20, 10))\n",
        "with torch.no_grad():\n",
        "    for data, target in test_loader:\n",
        "        data, target = data.to(device), target.to(device)\n",
        "        quantForward(q_model, data, old_stats, vis=True, axs=axs, sym=False, num_bits=4)\n",
        "#         output = quantAwareTrainingForward(q_model, data, old_stats, vis=True, axs=axs, sym=False, num_bits=2, act_quant=True)\n",
        "        break\n",
        "plt.show()"
      ],
      "execution_count": 31,
      "outputs": [
        {
          "output_type": "display_data",
          "data": {
            "image/png": "[encoded data removed]",
            "text/plain": [
              "<Figure size 1440x720 with 10 Axes>"
            ]
          },
          "metadata": {
            "tags": [],
            "needs_background": "light"
          }
        }
      ]
    },
    {
      "cell_type": "markdown",
      "metadata": {
        "id": "SZH5ZxPfCWDf"
      },
      "source": [
        "## Quantization Aware with Noise during forward prop"
      ]
    },
    {
      "cell_type": "markdown",
      "metadata": {
        "id": "F_sSxV8BCfbc"
      },
      "source": [
        "### Forward Pass; (this function is not called. I was just using it to test randomized factor)"
      ]
    },
    {
      "cell_type": "code",
      "metadata": {
        "id": "j5z3DvAXCJI1"
      },
      "source": [
        "from __future__ import print_function\n",
        "import argparse\n",
        "import torch\n",
        "import torch.nn as nn\n",
        "import torch.nn.functional as F\n",
        "import torch.optim as optim\n",
        "from torchvision import datasets, transforms\n",
        "import numpy as np\n",
        "\n",
        "# redefine the nn.Module with a random gaussian term \n",
        "\n",
        "class NetMem(nn.Module):\n",
        "    def __init__(self, mnist=True):\n",
        "      \n",
        "        super(NetMem, self).__init__()\n",
        "        if mnist:\n",
        "          num_channels = 1\n",
        "        else:\n",
        "          num_channels = 3\n",
        "          \n",
        "        self.conv1 = nn.Conv2d(num_channels, 20, 5, 1)\n",
        "        self.conv2 = nn.Conv2d(20, 50, 5, 1)\n",
        "        if mnist:\n",
        "          self.fc1 = nn.Linear(4*4*50, 500)\n",
        "          self.flatten_shape = 4*4*50\n",
        "        else:\n",
        "          self.fc1 = nn.Linear(1250, 500)\n",
        "          self.flatten_shape = 1250\n",
        "\n",
        "        self.fc2 = nn.Linear(500, 10)\n",
        "        \n",
        "    def forward(self, x, vis=False, axs=None):\n",
        "        X = 0\n",
        "        y = 0\n",
        "\n",
        "        if vis:\n",
        "          axs[X,y].set_xlabel('Entry into network, input distribution visualised below: ')\n",
        "          visualise(x, axs[X,y])\n",
        "\n",
        "          axs[X,y+1].set_xlabel(\"Visualising weights of conv 1 layer: \")\n",
        "          visualise(self.conv1.weight.data, axs[X,y+1])\n",
        "\n",
        "        memristor_dist1 = torch.normal(1, 0.02, size = self.conv1.weight.data.size())\n",
        "        x = F.relu(self.conv1(x)*memristor_dist1)\n",
        "\n",
        "        if vis:\n",
        "          axs[X,y+2].set_xlabel('Output after conv1 visualised below: ')\n",
        "          visualise(x,axs[X,y+2])\n",
        "\n",
        "          axs[X,y+3].set_xlabel(\"Visualising weights of conv 2 layer: \")\n",
        "          visualise(self.conv2.weight.data, axs[X,y+3])\n",
        "\n",
        "        x = F.max_pool2d(x, 2, 2)\n",
        "\n",
        "        memristor_dist2 = torch.normal(1, 0.02, size = self.conv2.weight.data.size())\n",
        "        x = F.relu(self.conv2(x)*memristor_dist2)\n",
        "\n",
        "        if vis:\n",
        "          axs[X,y+4].set_xlabel('Output after conv2 visualised below: ')\n",
        "          visualise(x,axs[X,y+4])\n",
        "\n",
        "          axs[X+1,y].set_xlabel(\"Visualising weights of fc 1 layer: \")\n",
        "          visualise(self.fc1.weight.data, axs[X+1,y])\n",
        "\n",
        "        x = F.max_pool2d(x, 2, 2)  \n",
        "        x = x.view(-1, self.flatten_shape)\n",
        "\n",
        "        memristor_dist3 = torch.normal(1, 0.02, size = self.fc1.weight.data.size())\n",
        "        x = F.relu(self.fc1(x)*memristor_dist3)\n",
        "\n",
        "        if vis:\n",
        "          axs[X+1,y+1].set_xlabel('Output after fc1 visualised below: ')\n",
        "          visualise(x,axs[X+1,y+1])\n",
        "\n",
        "          axs[X+1,y+2].set_xlabel(\"Visualising weights of fc 2 layer: \")\n",
        "          visualise(self.fc2.weight.data, axs[X+1,y+2])\n",
        "\n",
        "        memristor_dist4 = torch.normal(1, 0.02, size = self.fc2.weight.data.size())\n",
        "        x = self.fc2(x)*memristor_dist4\n",
        "\n",
        "        if vis:\n",
        "          axs[X+1,y+3].set_xlabel('Output after fc2 visualised below: ')\n",
        "          visualise(x,axs[X+1,y+3])\n",
        "\n",
        "        return F.log_softmax(x, dim=1)\n",
        "           \n",
        "      "
      ],
      "execution_count": 81,
      "outputs": []
    },
    {
      "cell_type": "markdown",
      "metadata": {
        "id": "CwUuAH0RNhiq"
      },
      "source": [
        "# Quantization aware forward pass with memristor noise\n",
        "The noise is of Gaussian Dist. mean 1.0 and var of 2%. There is a good chance the distribution is recalculated each time. It could make more sense to set memristor_dist1-4 globally, and re-use that every time."
      ]
    },
    {
      "cell_type": "code",
      "metadata": {
        "id": "TvhCRu6nCNO2"
      },
      "source": [
        "def quantAwareTrainingForward(model, x, stats, vis=False, axs=None, sym=False, num_bits=8, act_quant=False):\n",
        "  \n",
        "  conv1weight = model.conv1.weight.data\n",
        "  model.conv1.weight.data = FakeQuantOp.apply(model.conv1.weight.data, num_bits)\n",
        "\n",
        "  #print(\"The size of x is: {}\".format(x.size()))\n",
        "  #print(\"The size of conv1 is: {}\".format(model.conv1.weight.data.size()))\n",
        "  a = x.size()[0]\n",
        "  b = model.conv1.weight.data.size()[0]\n",
        "\n",
        "  memristor_dist1 = torch.normal(1, 0.02, size = [int(a), int(b), 24, 24]).to(device)\n",
        "  x = F.relu(model.conv1(x)*memristor_dist1)\n",
        "\n",
        "  with torch.no_grad():\n",
        "    stats = updateStats(x.clone().view(x.shape[0], -1), stats, 'conv1')\n",
        "\n",
        "  if act_quant:\n",
        "    x = FakeQuantOp.apply(x, num_bits, stats['conv1']['ema_min'], stats['conv1']['ema_max'])\n",
        "\n",
        "  x = F.max_pool2d(x, 2, 2)\n",
        "\n",
        "  conv2weight = model.conv2.weight.data\n",
        "  model.conv2.weight.data = FakeQuantOp.apply(model.conv2.weight.data, num_bits)\n",
        "\n",
        "  #print(\"The size of x is: {}\".format(x.size()))\n",
        "  #print(\"The size of conv2 is: {}\".format(model.conv1.weight.data.size()))\n",
        "\n",
        "  a = x.size()[0]\n",
        "  b = model.conv2.weight.data.size()[0]\n",
        "  memristor_dist2 = torch.normal(1, 0.02, size = [int(a), int(b), 8, 8]).to(device)\n",
        "  x = F.relu(model.conv2(x)*memristor_dist2)\n",
        "\n",
        "  with torch.no_grad():\n",
        "    stats = updateStats(x.clone().view(x.shape[0], -1), stats, 'conv2')\n",
        "    \n",
        "  if act_quant:\n",
        "    x = FakeQuantOp.apply(x, num_bits, stats['conv2']['ema_min'], stats['conv2']['ema_max'])\n",
        "\n",
        "\n",
        "  x = F.max_pool2d(x, 2, 2)\n",
        "  x = x.view(-1, 4*4*50)\n",
        "\n",
        "  fc1weight = model.fc1.weight.data\n",
        "  model.fc1.weight.data = FakeQuantOp.apply(model.fc1.weight.data, num_bits)\n",
        "  #print(\"fc1weight size is: {}\".format(fc1weight.size()))\n",
        "\n",
        "  #print(\"The size of x is: {}\".format(x.size()))\n",
        "  #print(\"The size of conv2 is: {}\".format(model.fc1.weight.data.size()))\n",
        "\n",
        "  a = x.size()[0]\n",
        "  b = model.fc1.weight.data.size()[0]\n",
        "\n",
        "  #print(\"The size of a at fc1 is: {}\".format(a)) #should be 64\n",
        "  #print(\"The size of b at fc1 is: {}\".format(b)) # should be 500\n",
        "  \n",
        "  memristor_dist3 = torch.normal(1, 0.02, size = [int(a), int(b)]).to(device)\n",
        "  x = F.relu(model.fc1(x)*memristor_dist3)\n",
        "  #print(\"x after fc1 is: {}\".format(x.size()))\n",
        "\n",
        "  with torch.no_grad():\n",
        "    stats = updateStats(x.clone().view(x.shape[0], -1), stats, 'fc1')\n",
        "\n",
        "  if act_quant:\n",
        "    x = FakeQuantOp.apply(x, num_bits, stats['fc1']['ema_min'], stats['fc1']['ema_max'])\n",
        "\n",
        "  a = x.size()[0]\n",
        "  b = model.fc2.weight.data.size()[0]\n",
        "\n",
        "  memristor_dist4 = torch.normal(1, 0.02, size = [int(a), int(b)]).to(device)\n",
        "  x = model.fc2(x)*memristor_dist4\n",
        "  #print(\"x after fc2 is: {}\".format(x.size()))\n",
        "  \n",
        "  with torch.no_grad():\n",
        "    stats = updateStats(x.clone().view(x.shape[0], -1), stats, 'fc2')\n",
        "\n",
        "  return F.log_softmax(x, dim=1), conv1weight, conv2weight, fc1weight, stats"
      ],
      "execution_count": 205,
      "outputs": []
    },
    {
      "cell_type": "code",
      "metadata": {
        "id": "MrINDZ9fOTOJ",
        "outputId": "687c1f8d-de14-49ae-cc8e-9dcc7849e552",
        "colab": {
          "base_uri": "https://localhost:8080/",
          "height": 1000
        }
      },
      "source": [
        "def trainQuantAware(args, model, device, train_loader, optimizer, epoch, stats, act_quant=False, num_bits=8):\n",
        "    model.train()\n",
        "    for batch_idx, (data, target) in enumerate(train_loader):\n",
        "        data, target = data.to(device), target.to(device)\n",
        "        optimizer.zero_grad()\n",
        "        output, conv1weight, conv2weight, fc1weight, stats = quantAwareTrainingForward(model, data, stats, num_bits=num_bits, act_quant=act_quant)\n",
        "\n",
        "        model.conv1.weight.data = conv1weight\n",
        "        model.conv2.weight.data = conv2weight\n",
        "        model.fc1.weight.data = fc1weight\n",
        "\n",
        "        loss = F.nll_loss(output, target)\n",
        "        loss.backward()\n",
        "        optimizer.step()\n",
        "\n",
        "        if batch_idx % args[\"log_interval\"] == 0:\n",
        "            print('Train Epoch: {} [{}/{} ({:.0f}%)]\\tLoss: {:.6f}'.format(\n",
        "                epoch, batch_idx * len(data), len(train_loader.dataset),\n",
        "                100. * batch_idx / len(train_loader), loss.item()))\n",
        "    return stats\n",
        "\n",
        "def testQuantAware(args, model, device, test_loader, stats, act_quant, num_bits=8):\n",
        "    model.eval()\n",
        "    test_loss = 0\n",
        "    correct = 0\n",
        "    with torch.no_grad():\n",
        "        for data, target in test_loader:\n",
        "            data, target = data.to(device), target.to(device)\n",
        "            output, conv1weight, conv2weight, fc1weight, _ = quantAwareTrainingForward(model, data, stats, num_bits=num_bits, act_quant=act_quant)\n",
        "            \n",
        "            model.conv1.weight.data = conv1weight\n",
        "            model.conv2.weight.data = conv2weight\n",
        "            model.fc1.weight.data = fc1weight\n",
        "\n",
        "            test_loss += F.nll_loss(output, target, reduction='sum').item() # sum up batch loss\n",
        "            pred = output.argmax(dim=1, keepdim=True) # get the index of the max log-probability\n",
        "            correct += pred.eq(target.view_as(pred)).sum().item()\n",
        "\n",
        "    test_loss /= len(test_loader.dataset)\n",
        "\n",
        "    print('\\nTest set: Average loss: {:.4f}, Accuracy: {}/{} ({:.0f}%)\\n'.format(\n",
        "        test_loss, correct, len(test_loader.dataset),\n",
        "        100. * correct / len(test_loader.dataset)))\n",
        "\n",
        "def mainQuantAware(mnist=True):\n",
        " \n",
        "    batch_size = 64\n",
        "    test_batch_size = 64\n",
        "    epochs = 20\n",
        "    lr = 0.01\n",
        "    momentum = 0.5\n",
        "    seed = 1\n",
        "    log_interval = 500\n",
        "    save_model = False\n",
        "    no_cuda = False\n",
        "    \n",
        "    use_cuda = not no_cuda and torch.cuda.is_available()\n",
        "\n",
        "    torch.manual_seed(seed)\n",
        "\n",
        "    device = torch.device(\"cuda\" if use_cuda else \"cpu\")\n",
        "\n",
        "    kwargs = {'num_workers': 1, 'pin_memory': True} if use_cuda else {}\n",
        "\n",
        "    if mnist:\n",
        "      train_loader = torch.utils.data.DataLoader(\n",
        "          datasets.MNIST('../data', train=True, download=True,\n",
        "                        transform=transforms.Compose([\n",
        "                            transforms.ToTensor(),\n",
        "                            transforms.Normalize((0.1307,), (0.3081,))\n",
        "                        ])),\n",
        "          batch_size=batch_size, shuffle=True, **kwargs)\n",
        "      \n",
        "      test_loader = torch.utils.data.DataLoader(\n",
        "          datasets.MNIST('../data', train=False, transform=transforms.Compose([\n",
        "                            transforms.ToTensor(),\n",
        "                            transforms.Normalize((0.1307,), (0.3081,))\n",
        "                        ])),\n",
        "          batch_size=test_batch_size, shuffle=True, **kwargs)\n",
        "    else:\n",
        "      transform = transforms.Compose(\n",
        "          [transforms.ToTensor(),\n",
        "          transforms.Normalize((0.5, 0.5, 0.5), (0.5, 0.5, 0.5))])\n",
        "\n",
        "      trainset = datasets.CIFAR10(root='./dataCifar', train=True,\n",
        "                                              download=True, transform=transform)\n",
        "      train_loader = torch.utils.data.DataLoader(trainset, batch_size=batch_size,\n",
        "                                                shuffle=True, num_workers=2)\n",
        "\n",
        "      testset = datasets.CIFAR10(root='./dataCifar', train=False,\n",
        "                                            download=True, transform=transform)\n",
        "      test_loader = torch.utils.data.DataLoader(testset, batch_size=test_batch_size,\n",
        "                                              shuffle=False, num_workers=2)\n",
        "          \n",
        "  \n",
        "    model = NetMem(mnist=mnist).to(device)\n",
        "    optimizer = optim.SGD(model.parameters(), lr=lr, momentum=momentum)\n",
        "    args = {}\n",
        "    args[\"log_interval\"] = log_interval\n",
        "    epochs = 20\n",
        "    num_bits=8\n",
        "    stats = {}\n",
        "    for epoch in range(1, epochs + 1):\n",
        "        if epoch > 5:\n",
        "          act_quant = True \n",
        "        else:\n",
        "          act_quant = False\n",
        "\n",
        "        stats = trainQuantAware(args, model, device, train_loader, optimizer, epoch, stats, act_quant, num_bits=num_bits)\n",
        "        testQuantAware(args, model, device, test_loader, stats, act_quant, num_bits=num_bits)\n",
        "\n",
        "    if (save_model):\n",
        "        torch.save(model.state_dict(),\"mnist_cnn.pt\")\n",
        "\n",
        "    return model, stats\n",
        "\n",
        "model, old_stats = mainQuantAware()"
      ],
      "execution_count": 206,
      "outputs": [
        {
          "output_type": "stream",
          "text": [
            "Train Epoch: 1 [0/60000 (0%)]\tLoss: 2.300277\n",
            "Train Epoch: 1 [32000/60000 (53%)]\tLoss: 0.339051\n",
            "\n",
            "Test set: Average loss: 0.1018, Accuracy: 9669/10000 (97%)\n",
            "\n",
            "Train Epoch: 2 [0/60000 (0%)]\tLoss: 0.074770\n",
            "Train Epoch: 2 [32000/60000 (53%)]\tLoss: 0.160223\n",
            "\n",
            "Test set: Average loss: 0.0673, Accuracy: 9800/10000 (98%)\n",
            "\n",
            "Train Epoch: 3 [0/60000 (0%)]\tLoss: 0.050186\n",
            "Train Epoch: 3 [32000/60000 (53%)]\tLoss: 0.049337\n",
            "\n",
            "Test set: Average loss: 0.0507, Accuracy: 9840/10000 (98%)\n",
            "\n",
            "Train Epoch: 4 [0/60000 (0%)]\tLoss: 0.139028\n",
            "Train Epoch: 4 [32000/60000 (53%)]\tLoss: 0.162087\n",
            "\n",
            "Test set: Average loss: 0.0577, Accuracy: 9824/10000 (98%)\n",
            "\n",
            "Train Epoch: 5 [0/60000 (0%)]\tLoss: 0.035885\n",
            "Train Epoch: 5 [32000/60000 (53%)]\tLoss: 0.023171\n",
            "\n",
            "Test set: Average loss: 0.0411, Accuracy: 9870/10000 (99%)\n",
            "\n",
            "Train Epoch: 6 [0/60000 (0%)]\tLoss: 0.069465\n",
            "Train Epoch: 6 [32000/60000 (53%)]\tLoss: 0.093299\n",
            "\n",
            "Test set: Average loss: 0.0342, Accuracy: 9887/10000 (99%)\n",
            "\n",
            "Train Epoch: 7 [0/60000 (0%)]\tLoss: 0.019616\n",
            "Train Epoch: 7 [32000/60000 (53%)]\tLoss: 0.018788\n",
            "\n",
            "Test set: Average loss: 0.0306, Accuracy: 9896/10000 (99%)\n",
            "\n",
            "Train Epoch: 8 [0/60000 (0%)]\tLoss: 0.010433\n",
            "Train Epoch: 8 [32000/60000 (53%)]\tLoss: 0.006393\n",
            "\n",
            "Test set: Average loss: 0.0327, Accuracy: 9890/10000 (99%)\n",
            "\n",
            "Train Epoch: 9 [0/60000 (0%)]\tLoss: 0.005696\n",
            "Train Epoch: 9 [32000/60000 (53%)]\tLoss: 0.003880\n",
            "\n",
            "Test set: Average loss: 0.0281, Accuracy: 9902/10000 (99%)\n",
            "\n",
            "Train Epoch: 10 [0/60000 (0%)]\tLoss: 0.010641\n",
            "Train Epoch: 10 [32000/60000 (53%)]\tLoss: 0.009627\n",
            "\n",
            "Test set: Average loss: 0.0295, Accuracy: 9905/10000 (99%)\n",
            "\n",
            "Train Epoch: 11 [0/60000 (0%)]\tLoss: 0.004388\n",
            "Train Epoch: 11 [32000/60000 (53%)]\tLoss: 0.001978\n",
            "\n",
            "Test set: Average loss: 0.0276, Accuracy: 9910/10000 (99%)\n",
            "\n",
            "Train Epoch: 12 [0/60000 (0%)]\tLoss: 0.006470\n",
            "Train Epoch: 12 [32000/60000 (53%)]\tLoss: 0.016327\n",
            "\n",
            "Test set: Average loss: 0.0298, Accuracy: 9900/10000 (99%)\n",
            "\n",
            "Train Epoch: 13 [0/60000 (0%)]\tLoss: 0.002884\n",
            "Train Epoch: 13 [32000/60000 (53%)]\tLoss: 0.003720\n",
            "\n",
            "Test set: Average loss: 0.0272, Accuracy: 9918/10000 (99%)\n",
            "\n",
            "Train Epoch: 14 [0/60000 (0%)]\tLoss: 0.003762\n",
            "Train Epoch: 14 [32000/60000 (53%)]\tLoss: 0.004538\n",
            "\n",
            "Test set: Average loss: 0.0275, Accuracy: 9913/10000 (99%)\n",
            "\n",
            "Train Epoch: 15 [0/60000 (0%)]\tLoss: 0.012615\n",
            "Train Epoch: 15 [32000/60000 (53%)]\tLoss: 0.000488\n",
            "\n",
            "Test set: Average loss: 0.0325, Accuracy: 9912/10000 (99%)\n",
            "\n",
            "Train Epoch: 16 [0/60000 (0%)]\tLoss: 0.007023\n",
            "Train Epoch: 16 [32000/60000 (53%)]\tLoss: 0.006645\n",
            "\n",
            "Test set: Average loss: 0.0276, Accuracy: 9912/10000 (99%)\n",
            "\n",
            "Train Epoch: 17 [0/60000 (0%)]\tLoss: 0.030018\n",
            "Train Epoch: 17 [32000/60000 (53%)]\tLoss: 0.004370\n",
            "\n",
            "Test set: Average loss: 0.0266, Accuracy: 9915/10000 (99%)\n",
            "\n",
            "Train Epoch: 18 [0/60000 (0%)]\tLoss: 0.010030\n",
            "Train Epoch: 18 [32000/60000 (53%)]\tLoss: 0.002933\n",
            "\n",
            "Test set: Average loss: 0.0296, Accuracy: 9907/10000 (99%)\n",
            "\n",
            "Train Epoch: 19 [0/60000 (0%)]\tLoss: 0.000358\n",
            "Train Epoch: 19 [32000/60000 (53%)]\tLoss: 0.001922\n",
            "\n",
            "Test set: Average loss: 0.0284, Accuracy: 9911/10000 (99%)\n",
            "\n",
            "Train Epoch: 20 [0/60000 (0%)]\tLoss: 0.009398\n",
            "Train Epoch: 20 [32000/60000 (53%)]\tLoss: 0.002167\n",
            "\n",
            "Test set: Average loss: 0.0459, Accuracy: 9859/10000 (99%)\n",
            "\n"
          ],
          "name": "stdout"
        }
      ]
    },
    {
      "cell_type": "code",
      "metadata": {
        "id": "68nFKXmuPIyS"
      },
      "source": [
        "  "
      ],
      "execution_count": null,
      "outputs": []
    }
  ]
}